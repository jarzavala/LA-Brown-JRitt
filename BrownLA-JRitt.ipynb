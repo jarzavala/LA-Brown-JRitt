{
 "cells": [
  {
   "cell_type": "code",
   "execution_count": 1,
   "metadata": {},
   "outputs": [],
   "source": [
    "import numpy as np\n",
    "import matplotlib.pyplot as plt\n",
    "from scipy.integrate import odeint"
   ]
  },
  {
   "cell_type": "code",
   "execution_count": 2,
   "metadata": {},
   "outputs": [],
   "source": [
    "def diff_eq(y,t,he_loves=-1,she_responds=0.1,she_loves=-1,he_responds=-0.1):\n",
    "    #dHe/dt = he_loves*He + she_responds*She\n",
    "    #dShe/dt = she_loves*He + he_responds*She\n",
    "    #y = [He,She] current position in phase space\n",
    "    \n",
    "    A = np.array([[he_loves, she_responds],[she_loves,he_responds]])\n",
    "    \n",
    "    dydt = np.dot(A,y)\n",
    "    \n",
    "    return dydt #two dimensional vector [dHe/dt,dShe/dt]\n",
    "\n",
    "\n",
    "def plot_solution(diff_eq, start = [1,2], t_in = np.linspace(-10, 10, 100)):\n",
    "\n",
    "\n",
    "    fig0, ax0 = plt.subplots(1,1,figsize=(8,8))\n",
    "    ax0.set_aspect('equal')\n",
    "    \n",
    "    \n",
    "    y_out = odeint(diff_eq, start, t_in) #returns y's and assume t's stay stable\n",
    "    \n",
    "    #print(solve.shape, type(solve)) #should print vector of shape y and type will tell type of object\n",
    "\n",
    "    \n",
    "    plt.plot(t_in,y_out[:,0]) #[:,0] takes out first column of y...plots Romeo love over time\n",
    "    plt.plot(t_in,y_out[:,1]) #plots Juliets love over time\n",
    "    \n",
    "    plt.grid()\n",
    "    plt.show()\n",
    "    \n",
    "    \n",
    "    "
   ]
  },
  {
   "cell_type": "code",
   "execution_count": 3,
   "metadata": {
    "scrolled": false
   },
   "outputs": [
    {
     "data": {
      "image/png": "[encoded data removed]",
      "text/plain": [
       "<Figure size 576x576 with 1 Axes>"
      ]
     },
     "metadata": {
      "needs_background": "light"
     },
     "output_type": "display_data"
    }
   ],
   "source": [
    "plot_solution(diff_eq) "
   ]
  },
  {
   "cell_type": "markdown",
   "metadata": {},
   "source": [
    "add new function plot phaseplane...plotting he against she: he = y[0] she = y[1]\n",
    "...\n",
    "try previous parameters (spiral? saddle?)\n",
    "...\n"
   ]
  },
  {
   "cell_type": "code",
   "execution_count": null,
   "metadata": {},
   "outputs": [],
   "source": []
  }
 ],
 "metadata": {
  "kernelspec": {
   "display_name": "Python 3",
   "language": "python",
   "name": "python3"
  },
  "language_info": {
   "codemirror_mode": {
    "name": "ipython",
    "version": 3
   },
   "file_extension": ".py",
   "mimetype": "text/x-python",
   "name": "python",
   "nbconvert_exporter": "python",
   "pygments_lexer": "ipython3",
   "version": "3.7.6"
  }
 },
 "nbformat": 4,
 "nbformat_minor": 4
}
